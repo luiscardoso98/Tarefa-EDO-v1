{
 "cells": [
  {
   "cell_type": "code",
   "execution_count": 93,
   "metadata": {},
   "outputs": [],
   "source": [
    "import numpy as np\n",
    "import ipywidgets as wd"
   ]
  },
  {
   "cell_type": "code",
   "execution_count": 94,
   "metadata": {},
   "outputs": [],
   "source": [
    "def f_1(t,x):\n",
    "    return x\n",
    "def f_2(t,x):\n",
    "    return 2*t*(1+x*x)\n",
    "\n",
    "def euler(funcao,delta, t,x):\n",
    "    if funcao == 'Linear':\n",
    "        return x+f_1(t,x)*delta\n",
    "    return x + f_2(t,x)*delta\n",
    "\n",
    "def euler_mod(funcao,delta, t,x):\n",
    "    if funcao == 'Linear':\n",
    "        m = f_1(t,x)\n",
    "        n = f_1(t+delta,x + f_1(t,x)*delta)\n",
    "    else:\n",
    "        m = f_2(t,x)\n",
    "        n = f_2(t+delta,x + f_2(t,x)*delta)\n",
    "    return x + (m+n)*delta/2\n",
    "\n",
    "def runge_kutta(funcao,delta, t,x):\n",
    "    if funcao == 'Linear':\n",
    "        m = f_1(t,x)\n",
    "        n = f_1(t+delta/2,x+m*delta/2)\n",
    "        p = f_1(t+delta/2,x+n*delta/2)\n",
    "        q = f_1(t+delta,x+p*delta)\n",
    "    else: \n",
    "        m = f_2(t,x)\n",
    "        n = f_2(t+delta/2,x+m*delta/2)\n",
    "        p = f_2(t+delta/2,x+n*delta/2)\n",
    "        q = f_2(t+delta,x+p*delta)\n",
    "    return x+(m+2*n+2*p+q)*delta/6"
   ]
  },
  {
   "cell_type": "code",
   "execution_count": 95,
   "metadata": {},
   "outputs": [],
   "source": [
    "def estimador(delta,metodo,funcao):\n",
    "    t_0 = 0\n",
    "    t=1\n",
    "    if funcao == 'Linear':\n",
    "        x= 1\n",
    "    else:\n",
    "        x=0\n",
    "    if metodo == 'Euler':\n",
    "        while t_0 < t:\n",
    "            x = euler(funcao,delta, t_0,x)\n",
    "            t_0 += delta\n",
    "    if metodo == 'Euler modificado':\n",
    "        while t_0<t:\n",
    "            x = euler_mod(funcao,delta, t_0,x)\n",
    "            t_0 += delta\n",
    "    else:\n",
    "        while t_0<t:\n",
    "            x = runge_kutta(funcao,delta, t_0,x)\n",
    "            t_0 += delta\n",
    "    if funcao == 'Linear':\n",
    "        print('Valor obtido: {:.6} \\nErro: {:.6}'.format(x,np.abs(np.e-x)))\n",
    "    else:\n",
    "        print('Valor obtido: {:.6} \\nErro: {:.6}'.format(x,np.abs(np.tan(1)-x)))  "
   ]
  },
  {
   "cell_type": "code",
   "execution_count": 96,
   "metadata": {},
   "outputs": [
    {
     "data": {
      "application/vnd.jupyter.widget-view+json": {
       "model_id": "626925e787924ec3ad7df26b5febb49e",
       "version_major": 2,
       "version_minor": 0
      },
      "text/plain": [
       "interactive(children=(FloatSlider(value=0.1, description='Delta:', max=0.2, min=0.01, step=0.01), Dropdown(des…"
      ]
     },
     "metadata": {},
     "output_type": "display_data"
    }
   ],
   "source": [
    "delta = wd.FloatSlider(min=0.01,max = 0.2,step=0.01,value=0.1,description = 'Delta:')\n",
    "metodo = wd.Dropdown(options = ['Euler','Euler modificado','Runge-Kutta'],value='Euler',description = 'Método:')\n",
    "funcao = wd.Dropdown(options = ['Linear','Não autônoma'],value = 'Linear'\n",
    "                     , description = 'Equação:')\n",
    "wd.interactive(estimador,delta=delta,metodo=metodo,funcao=funcao,\n",
    "              continuous_update=False) "
   ]
  }
 ],
 "metadata": {
  "kernelspec": {
   "display_name": "Python 3",
   "language": "python",
   "name": "python3"
  },
  "language_info": {
   "codemirror_mode": {
    "name": "ipython",
    "version": 3
   },
   "file_extension": ".py",
   "mimetype": "text/x-python",
   "name": "python",
   "nbconvert_exporter": "python",
   "pygments_lexer": "ipython3",
   "version": "3.7.3"
  }
 },
 "nbformat": 4,
 "nbformat_minor": 2
}
